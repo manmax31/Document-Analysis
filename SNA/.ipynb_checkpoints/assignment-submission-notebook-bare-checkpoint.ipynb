{
 "metadata": {
  "name": "",
  "signature": "sha256:93ea947f34005d71ab65684d29d03d3ed39a98823993726ffc7218195059cfa4"
 },
 "nbformat": 3,
 "nbformat_minor": 0,
 "worksheets": [
  {
   "cells": [
    {
     "cell_type": "markdown",
     "metadata": {},
     "source": [
      "**Student first name:** *Manab*\n",
      "\n",
      "**Student last name:** *Chetia*  \n",
      "\n",
      "**Student ANU UNI ID:** *u5492350*"
     ]
    },
    {
     "cell_type": "markdown",
     "metadata": {},
     "source": [
      "COMP4650 Social Media Assignment Submission (8 points)\n",
      "==="
     ]
    },
    {
     "cell_type": "markdown",
     "metadata": {},
     "source": [
      "1. Assignment questions related to tutorial 1: Constructing and analyzing a social network\n",
      "---"
     ]
    },
    {
     "cell_type": "markdown",
     "metadata": {},
     "source": [
      "This initial code is necessary for loading into this notebook's Python kernel the object necessary for this part of the assignment. Run the next cell before starting to work on the assignment questions below."
     ]
    },
    {
     "cell_type": "code",
     "collapsed": false,
     "input": [
      "import csv\n",
      "import urllib2\n",
      "import networkx as nx\n",
      "\n",
      "# opening a local CSV file\n",
      "to_read = file(\"dataset.csv\")  #use this line for a locally downloaded file\n",
      "\n",
      "# or reading it directly from the specified URL\n",
      "#url = 'http://mediamining.univ-lyon2.fr/~andrei/sna-lab-ipython/dataset.csv\n",
      "#to_read = urllib2.urlopen(url)\n",
      "\n",
      "reader = csv.reader(to_read)\n",
      "\n",
      "#  construct the networkx graph\n",
      "G = nx.Graph()\n",
      "\n",
      "for line in reader:\n",
      "    if line[0] not in G:  G.add_node(line[0])\n",
      "    if line[1] not in G:  G.add_node(line[1])\n",
      "    G.add_edge(line[0], line[1])"
     ],
     "language": "python",
     "metadata": {},
     "outputs": [],
     "prompt_number": 1
    },
    {
     "cell_type": "markdown",
     "metadata": {},
     "source": [
      "**(1 point) Assignment question #1.1:** Find another way of determining the number of users, by applying a (networkx) graph method."
     ]
    },
    {
     "cell_type": "code",
     "collapsed": true,
     "input": [
      "print \"The social graph contains {} users.\".format( G.number_of_nodes() )"
     ],
     "language": "python",
     "metadata": {},
     "outputs": [
      {
       "output_type": "stream",
       "stream": "stdout",
       "text": [
        "The social graph contains 217 users.\n"
       ]
      }
     ],
     "prompt_number": 2
    },
    {
     "cell_type": "markdown",
     "metadata": {},
     "source": [
      "**(0.5 points) Assignment question #1.2:** What is the minimum number of introductions required for the user `'137056623'` to reach any other user? "
     ]
    },
    {
     "cell_type": "code",
     "collapsed": true,
     "input": [
      "no_hops = max([len(nx.shortest_path(G, source = '137056623', target = x)) for x in G.nodes()])\n",
      "print \"Using {} introductions, '137056623' can reach anyone in the network\".format(no_hops)"
     ],
     "language": "python",
     "metadata": {},
     "outputs": [
      {
       "output_type": "stream",
       "stream": "stdout",
       "text": [
        "Using 11 introductions, '137056623' can reach anyone in the network\n"
       ]
      }
     ],
     "prompt_number": 3
    },
    {
     "cell_type": "markdown",
     "metadata": {},
     "source": [
      "**(0.5 points) Assignment question #1.3:** What is the minimum number of introductions required for the any user to reach any other user in the  network?  \n",
      "\n",
      "**HINT:** study the `shortest_path_length` method description."
     ]
    },
    {
     "cell_type": "code",
     "collapsed": true,
     "input": [
      "no_hops = max([nx.shortest_path_length(G, source = y, target = x)  for y in G.nodes() for x in G.nodes() if x!=y])\n",
      "print \"Minimum number of introductions for any user to reach any other user in the network: {}\".format(no_hops)"
     ],
     "language": "python",
     "metadata": {},
     "outputs": [
      {
       "output_type": "stream",
       "stream": "stdout",
       "text": [
        "Minimum number of introductions for any user to reach any other user in the network: 18\n"
       ]
      }
     ],
     "prompt_number": 4
    },
    {
     "cell_type": "markdown",
     "metadata": {},
     "source": [
      "**(0.5 points) Assignment question #1.4:** The _diameter_ $d$ of a graph is the maximum eccentricity of any node, $d = \\max_{v} \\epsilon(v)$. Give two ways to compute the diameter of the social network G (one using the calculated eccentricity values calculated earlier and another one using the dedicated `networkx` function)."
     ]
    },
    {
     "cell_type": "code",
     "collapsed": true,
     "input": [
      "ec = nx.eccentricity(G)\n",
      "print \"Diameter of the social network G: {}\".format( nx.diameter(G)   )\n",
      "print \"Diameter of the social network G: {}\".format( max(ec.values()) )"
     ],
     "language": "python",
     "metadata": {},
     "outputs": [
      {
       "output_type": "stream",
       "stream": "stdout",
       "text": [
        "Diameter of the social network G: 18\n",
        "Diameter of the social network G: 18\n"
       ]
      }
     ],
     "prompt_number": 5
    },
    {
     "cell_type": "markdown",
     "metadata": {},
     "source": [
      "**(0.5 points) Assignment question #1.5:** Determine ALL most central node(s) and ALL most central edge(s), with respect to the node and edge betweenes centrality. Remember that two or more nodes/edges may have the same centrality score and they ALL need to be determined for this assignment.  \n",
      "**Hint:** `networkx` already contains dedicated function to compute node and edge betweenness centrality scores."
     ]
    },
    {
     "cell_type": "code",
     "collapsed": true,
     "input": [
      "dic1         =  nx.betweenness_centrality(G)\n",
      "centralNodes =  [node for node,score in dic1.iteritems() if score == max(dic1.values())] \n",
      "print \"Most central node(s): {}\".format( centralNodes )\n",
      "\n",
      "dic2         =  nx.edge_betweenness_centrality(G)\n",
      "centralEdges =  [edge for edge,score in dic2.iteritems() if score == max(dic2.values())] \n",
      "print \"Most central edge(s): {}\".format( centralEdges )"
     ],
     "language": "python",
     "metadata": {},
     "outputs": [
      {
       "output_type": "stream",
       "stream": "stdout",
       "text": [
        "Most central node(s): ['54837666']\n",
        "Most central edge(s): [('2260701138', '54837666')]"
       ]
      },
      {
       "output_type": "stream",
       "stream": "stdout",
       "text": [
        "\n"
       ]
      }
     ],
     "prompt_number": 6
    },
    {
     "cell_type": "markdown",
     "metadata": {},
     "source": [
      "2. Assignment questions related to the tutorial 2: constructing a network from real data\n",
      "---"
     ]
    },
    {
     "cell_type": "markdown",
     "metadata": {},
     "source": [
      "**(0 points) Preliminary assignment question #2.1:** Starting from [the same bzipped JSON twitter dataset](http://mediamining.univ-lyon2.fr/~andrei/sna-lab-ipython/twitter-dump.json.bz2), construct the social graph based on the reply relation. Analyse (as shown in *Step 3*) which fields you require and give the Python code necessary for constructing the network. \n",
      "\n",
      "**NOTE:** all the subsequent questions of this subsection are to be solved on the graph constructed at this question."
     ]
    },
    {
     "cell_type": "markdown",
     "metadata": {},
     "source": [
      "\"# cell for analysis of required fields\""
     ]
    },
    {
     "cell_type": "code",
     "collapsed": true,
     "input": [
      "import networkx as nx\n",
      "import bz2, json\n",
      "\n",
      "# open the bzipped dataset\n",
      "reader = bz2.BZ2File(\"./twitter-dump.json.bz2\", mode=\"r\")\n",
      "jobj = json.loads(reader.readline())\n",
      "#  construct the networkx graph\n",
      "DG = nx.DiGraph()\n",
      "\n",
      "# go line by line (ergo, tweet by tweet)\n",
      "for line in reader:\n",
      "    # load the JSON object from the read line\n",
      "    jobj = json.loads(line)\n",
      "\n",
      "    # determine user id\n",
      "    user_id = jobj[u'user'][u'id']\n",
      "    if isinstance(user_id, dict):\n",
      "        user_id = user_id.values()[0]\n",
      "    user_id = int(user_id)\n",
      "    \n",
      "    # determine the reply id\n",
      "    reply_id = jobj[u'in_reply_to_user_id']\n",
      "    if reply_id is not None:            \n",
      "        if isinstance(reply_id, dict):\n",
      "            reply_id = reply_id.values()[0]\n",
      "        reply_id = int(reply_id)\n",
      "        \n",
      "        # add the two nodes in the graph, if not already there\n",
      "        if user_id  not in DG:  DG.add_node(user_id)\n",
      "        if reply_id not in DG:  DG.add_node(reply_id)\n",
      "        DG.add_edge(user_id, reply_id)"
     ],
     "language": "python",
     "metadata": {},
     "outputs": [],
     "prompt_number": 7
    },
    {
     "cell_type": "markdown",
     "metadata": {},
     "source": [
      "**(1 point) Assignment question #2.2:** How many nodes and edges do you have in the resulted reply graph?"
     ]
    },
    {
     "cell_type": "code",
     "collapsed": true,
     "input": [
      "print \"Number of nodes: {}\".format( DG.number_of_nodes() )\n",
      "print \"Number of edges: {}\".format( DG.number_of_edges() )"
     ],
     "language": "python",
     "metadata": {},
     "outputs": [
      {
       "output_type": "stream",
       "stream": "stdout",
       "text": [
        "Number of nodes: 735\n",
        "Number of edges: 622\n"
       ]
      }
     ],
     "prompt_number": 8
    },
    {
     "cell_type": "markdown",
     "metadata": {},
     "source": [
      "**(1 point) Assignment question #2.3:** Using the `networkx` functions, filter the social graph to its *giant connected component*. \n",
      "\n",
      "Calculate for this new graph: i) the number of nodes, ii) the number of edges, iii) the radius and iv) the diameter.  \n",
      "\n",
      "**HINT:** You can either construct a new graph which contains only the nodes and edges in the *giant connected component* or you can remove from your initial graph all the nodes and edges belonging to the other connected components.  \n",
      "\n",
      "**NOTE:** This assignments is to be done on the UNDIRECTED version of the social graph. Considering that *DG* is the constructed directed networkx graph, do:"
     ]
    },
    {
     "cell_type": "code",
     "collapsed": true,
     "input": [
      "# create an undirected copy of our graph\n",
      "\n",
      "G    = DG.to_undirected()\n",
      "Gcc  = sorted(nx.connected_component_subgraphs(G), key = len, reverse=True)\n",
      "Gccb = Gcc[0]\n",
      "\n",
      "print \"Number of    GCC nodes  : {}\".format( Gccb.number_of_nodes() )\n",
      "print \"Number of    GCC edges  : {}\".format( Gccb.number_of_edges() )\n",
      "print \"Radius of    GCC        : {}\".format( nx.radius(Gccb) )\n",
      "print \"Diameter of  GCC        : {}\".format( nx.diameter(Gccb) )"
     ],
     "language": "python",
     "metadata": {},
     "outputs": [
      {
       "output_type": "stream",
       "stream": "stdout",
       "text": [
        "Number of    GCC nodes  : 465\n",
        "Number of    GCC edges  : 467\n",
        "Radius of    GCC        : 3"
       ]
      },
      {
       "output_type": "stream",
       "stream": "stdout",
       "text": [
        "\n",
        "Diameter of  GCC        : 6"
       ]
      },
      {
       "output_type": "stream",
       "stream": "stdout",
       "text": [
        "\n"
       ]
      }
     ],
     "prompt_number": 9
    },
    {
     "cell_type": "markdown",
     "metadata": {},
     "source": [
      "**(1 point) Assignment question #2.4:** This assignment question is to calculate iterativelly the basic form of the PageRank on the reply social graph constructed previously. Considering that *DG* is the constructed directed networkx graph constructed at the **Assignment questions #2.1**. We will construct the *PageRank* on the largest [*weakly connected component*](http://en.wikipedia.org/wiki/Connectivity_%28graph_theory%29). This is constructed as shown hereafter.\n",
      "\n",
      "Your job is to compute the PageRank, using the algorithm provided in the tutorial and exemplified in the lecture notes.\n",
      "\n",
      "Use a maximum of $maxiter = 20$ iterations."
     ]
    },
    {
     "cell_type": "code",
     "collapsed": false,
     "input": [
      "import operator\n",
      "from itertools import islice\n",
      "\n",
      "\n",
      "# get the list of weakly connected components, sorted by size\n",
      "omp_List = sorted(nx.weakly_connected_component_subgraphs(DG), key = len, reverse=True)\n",
      "\n",
      "# we want the first component, the biggest\n",
      "WCDG = omp_List[0]\n",
      "\n",
      "# get the number of nodes of the graph\n",
      "n = len( WCDG.nodes() )\n",
      "\n",
      "# initialize the PR at moment 0 using a dictionary of pairs {node : score}\n",
      "PR = {}\n",
      "for node in WCDG.nodes():\n",
      "    PR[node] = 1.0/n\n",
      "\n",
      "no_iter  = 0     # current iteration\n",
      "iter_max = 20    # maximum number of iterations\n",
      "d        = 0.7   # decay factor\n",
      "\n",
      "while no_iter < iter_max: # iterate until maximum iterations\n",
      "    new_PR  = {}\n",
      "    no_iter = no_iter + 1\n",
      "\n",
      "    # calculate the PageRank of each node (`new_PR[node]`), based on the previous values (`PR[other_nodes]`)\n",
      "    for node in WCDG.nodes():\n",
      "        B_p = DG.predecessors(node)\n",
      "        #B_p =[x[0] for x in DG.edges() if x[1]==node]\n",
      "        \n",
      "        if not len(B_p):\n",
      "            #score        = PR[node]\n",
      "            new_PR[node] = ( (1-d)/n ) #+ d*score\n",
      "        else:\n",
      "            score = 0.0\n",
      "            for b in  B_p:\n",
      "                out_edges =  WCDG.in_edges(nbunch=b, data=False)\n",
      "                N_b       =  len(out_edges)\n",
      "                score    +=  PR[b] * (1/N_b)\n",
      "            new_PR[node]  = ( (1-d)/n ) + d*score\n",
      "                \n",
      "    # at the end of iteration, replace old values of PR with the new one\n",
      "    PR = new_PR\n",
      "\n",
      "# printing at the screen shows some interesting values\n",
      "sorted_PR = sorted(PR.iteritems(), key=operator.itemgetter(1), reverse=True)\n",
      "\n",
      "# and print it out the first 10 elements\n",
      "dict(islice(sorted_PR, 10))"
     ],
     "language": "python",
     "metadata": {},
     "outputs": [
      {
       "metadata": {},
       "output_type": "pyout",
       "prompt_number": 10,
       "text": [
        "{34359954: 0.0042580645161290325,\n",
        " 34507480: 0.20057419354838732,\n",
        " 153694176: 0.002451612903225807,\n",
        " 217733121: 0.0006451612903225808,\n",
        " 271239188: 0.0006451612903225808,\n",
        " 307812367: 0.0006451612903225808,\n",
        " 336555582: 0.0010967741935483872,\n",
        " 1059729420: 0.0006451612903225808,\n",
        " 1304000534: 0.0006451612903225808,\n",
        " 1456140289: 0.0006451612903225808}"
       ]
      }
     ],
     "prompt_number": 10
    },
    {
     "cell_type": "markdown",
     "metadata": {},
     "source": [
      "3. Assignment questions related to the tutorial 3: sentiment analysis\n",
      "---"
     ]
    },
    {
     "cell_type": "markdown",
     "metadata": {},
     "source": [
      "The following code is necessary to define the sentiment scoring function that was constructed in the tutorial. Run this before continuing with the assignments:"
     ]
    },
    {
     "cell_type": "code",
     "collapsed": false,
     "input": [
      "from nltk.stem.wordnet import WordNetLemmatizer\n",
      "import nltk\n",
      "\n",
      "# define the lemmatizer\n",
      "lmtzr = WordNetLemmatizer()\n",
      "#read the positive and negative lexicon in lists of words\n",
      "positive_words = [lmtzr.lemmatize(line.strip()) for line in open('sentiment-lexicon-positive-words.txt')]\n",
      "negative_words = [lmtzr.lemmatize(line.strip()) for line in open('sentiment-lexicon-negative-words.txt')]\n",
      "\n",
      "# # define the function that computes the sentiment score\n",
      "def get_sentiment_score(text):\n",
      "    # tokenize and lemmatize the current tweet\n",
      "    tokens = nltk.word_tokenize(text)\n",
      "    tweet = [ lmtzr.lemmatize(x.lower()) for x in tokens if len(x) >= 3 ]\n",
      "\n",
      "    # calculate the sentiment score\n",
      "    score = 0\n",
      "    for word in tweet:\n",
      "        if word in positive_words:\n",
      "            score = score + 1\n",
      "        if word in negative_words:\n",
      "            score = score - 1\n",
      "            \n",
      "    return score"
     ],
     "language": "python",
     "metadata": {},
     "outputs": [
      {
       "ename": "UnicodeDecodeError",
       "evalue": "'ascii' codec can't decode byte 0xcc in position 2: ordinal not in range(128)",
       "output_type": "pyerr",
       "traceback": [
        "\u001b[0;31m---------------------------------------------------------------------------\u001b[0m\n\u001b[0;31mUnicodeDecodeError\u001b[0m                        Traceback (most recent call last)",
        "\u001b[0;32m<ipython-input-12-a935e01d72f1>\u001b[0m in \u001b[0;36m<module>\u001b[0;34m()\u001b[0m\n\u001b[1;32m      7\u001b[0m \u001b[0;31m#read the positive and negative lexicon in lists of words\u001b[0m\u001b[0;34m\u001b[0m\u001b[0;34m\u001b[0m\u001b[0m\n\u001b[1;32m      8\u001b[0m \u001b[0mpositive_words\u001b[0m \u001b[0;34m=\u001b[0m \u001b[0;34m[\u001b[0m\u001b[0mlmtzr\u001b[0m\u001b[0;34m.\u001b[0m\u001b[0mlemmatize\u001b[0m\u001b[0;34m(\u001b[0m\u001b[0mline\u001b[0m\u001b[0;34m.\u001b[0m\u001b[0mstrip\u001b[0m\u001b[0;34m(\u001b[0m\u001b[0;34m)\u001b[0m\u001b[0;34m)\u001b[0m \u001b[0;32mfor\u001b[0m \u001b[0mline\u001b[0m \u001b[0;32min\u001b[0m \u001b[0mopen\u001b[0m\u001b[0;34m(\u001b[0m\u001b[0;34m'sentiment-lexicon-positive-words.txt'\u001b[0m\u001b[0;34m)\u001b[0m\u001b[0;34m]\u001b[0m\u001b[0;34m\u001b[0m\u001b[0m\n\u001b[0;32m----> 9\u001b[0;31m \u001b[0mnegative_words\u001b[0m \u001b[0;34m=\u001b[0m \u001b[0;34m[\u001b[0m\u001b[0mlmtzr\u001b[0m\u001b[0;34m.\u001b[0m\u001b[0mlemmatize\u001b[0m\u001b[0;34m(\u001b[0m\u001b[0mline\u001b[0m\u001b[0;34m.\u001b[0m\u001b[0mstrip\u001b[0m\u001b[0;34m(\u001b[0m\u001b[0;34m)\u001b[0m\u001b[0;34m)\u001b[0m \u001b[0;32mfor\u001b[0m \u001b[0mline\u001b[0m \u001b[0;32min\u001b[0m \u001b[0mopen\u001b[0m\u001b[0;34m(\u001b[0m\u001b[0;34m'sentiment-lexicon-negative-words.txt'\u001b[0m\u001b[0;34m)\u001b[0m\u001b[0;34m]\u001b[0m\u001b[0;34m\u001b[0m\u001b[0m\n\u001b[0m\u001b[1;32m     10\u001b[0m \u001b[0;34m\u001b[0m\u001b[0m\n\u001b[1;32m     11\u001b[0m \u001b[0;31m# # define the function that computes the sentiment score\u001b[0m\u001b[0;34m\u001b[0m\u001b[0;34m\u001b[0m\u001b[0m\n",
        "\u001b[0;32m/Users/manabchetia/Library/Enthought/Canopy_64bit/User/lib/python2.7/site-packages/nltk/stem/wordnet.pyc\u001b[0m in \u001b[0;36mlemmatize\u001b[0;34m(self, word, pos)\u001b[0m\n\u001b[1;32m     38\u001b[0m \u001b[0;34m\u001b[0m\u001b[0m\n\u001b[1;32m     39\u001b[0m     \u001b[0;32mdef\u001b[0m \u001b[0mlemmatize\u001b[0m\u001b[0;34m(\u001b[0m\u001b[0mself\u001b[0m\u001b[0;34m,\u001b[0m \u001b[0mword\u001b[0m\u001b[0;34m,\u001b[0m \u001b[0mpos\u001b[0m\u001b[0;34m=\u001b[0m\u001b[0mNOUN\u001b[0m\u001b[0;34m)\u001b[0m\u001b[0;34m:\u001b[0m\u001b[0;34m\u001b[0m\u001b[0m\n\u001b[0;32m---> 40\u001b[0;31m         \u001b[0mlemmas\u001b[0m \u001b[0;34m=\u001b[0m \u001b[0mwordnet\u001b[0m\u001b[0;34m.\u001b[0m\u001b[0m_morphy\u001b[0m\u001b[0;34m(\u001b[0m\u001b[0mword\u001b[0m\u001b[0;34m,\u001b[0m \u001b[0mpos\u001b[0m\u001b[0;34m)\u001b[0m\u001b[0;34m\u001b[0m\u001b[0m\n\u001b[0m\u001b[1;32m     41\u001b[0m         \u001b[0;32mreturn\u001b[0m \u001b[0mmin\u001b[0m\u001b[0;34m(\u001b[0m\u001b[0mlemmas\u001b[0m\u001b[0;34m,\u001b[0m \u001b[0mkey\u001b[0m\u001b[0;34m=\u001b[0m\u001b[0mlen\u001b[0m\u001b[0;34m)\u001b[0m \u001b[0;32mif\u001b[0m \u001b[0mlemmas\u001b[0m \u001b[0;32melse\u001b[0m \u001b[0mword\u001b[0m\u001b[0;34m\u001b[0m\u001b[0m\n\u001b[1;32m     42\u001b[0m \u001b[0;34m\u001b[0m\u001b[0m\n",
        "\u001b[0;32m/Users/manabchetia/Library/Enthought/Canopy_64bit/User/lib/python2.7/site-packages/nltk/corpus/reader/wordnet.pyc\u001b[0m in \u001b[0;36m_morphy\u001b[0;34m(self, form, pos)\u001b[0m\n\u001b[1;32m   1649\u001b[0m \u001b[0;34m\u001b[0m\u001b[0m\n\u001b[1;32m   1650\u001b[0m         \u001b[0;31m# 1. Apply rules once to the input to get y1, y2, y3, etc.\u001b[0m\u001b[0;34m\u001b[0m\u001b[0;34m\u001b[0m\u001b[0m\n\u001b[0;32m-> 1651\u001b[0;31m         \u001b[0mforms\u001b[0m \u001b[0;34m=\u001b[0m \u001b[0mapply_rules\u001b[0m\u001b[0;34m(\u001b[0m\u001b[0;34m[\u001b[0m\u001b[0mform\u001b[0m\u001b[0;34m]\u001b[0m\u001b[0;34m)\u001b[0m\u001b[0;34m\u001b[0m\u001b[0m\n\u001b[0m\u001b[1;32m   1652\u001b[0m \u001b[0;34m\u001b[0m\u001b[0m\n\u001b[1;32m   1653\u001b[0m         \u001b[0;31m# 2. Return all that are in the database (and check the original too)\u001b[0m\u001b[0;34m\u001b[0m\u001b[0;34m\u001b[0m\u001b[0m\n",
        "\u001b[0;32m/Users/manabchetia/Library/Enthought/Canopy_64bit/User/lib/python2.7/site-packages/nltk/corpus/reader/wordnet.pyc\u001b[0m in \u001b[0;36mapply_rules\u001b[0;34m(forms)\u001b[0m\n\u001b[1;32m   1631\u001b[0m                     \u001b[0;32mfor\u001b[0m \u001b[0mform\u001b[0m \u001b[0;32min\u001b[0m \u001b[0mforms\u001b[0m\u001b[0;34m\u001b[0m\u001b[0m\n\u001b[1;32m   1632\u001b[0m                     \u001b[0;32mfor\u001b[0m \u001b[0mold\u001b[0m\u001b[0;34m,\u001b[0m \u001b[0mnew\u001b[0m \u001b[0;32min\u001b[0m \u001b[0msubstitutions\u001b[0m\u001b[0;34m\u001b[0m\u001b[0m\n\u001b[0;32m-> 1633\u001b[0;31m                     if form.endswith(old)]\n\u001b[0m\u001b[1;32m   1634\u001b[0m \u001b[0;34m\u001b[0m\u001b[0m\n\u001b[1;32m   1635\u001b[0m         \u001b[0;32mdef\u001b[0m \u001b[0mfilter_forms\u001b[0m\u001b[0;34m(\u001b[0m\u001b[0mforms\u001b[0m\u001b[0;34m)\u001b[0m\u001b[0;34m:\u001b[0m\u001b[0;34m\u001b[0m\u001b[0m\n",
        "\u001b[0;31mUnicodeDecodeError\u001b[0m: 'ascii' codec can't decode byte 0xcc in position 2: ordinal not in range(128)"
       ]
      }
     ],
     "prompt_number": 12
    },
    {
     "cell_type": "markdown",
     "metadata": {},
     "source": [
      "**(1 point) Assignment question #3.1:** Use the `get_sentiment_score(text)`, the sentiment scoring function defined before, and calculate the sentiment polarity of the tweets in the Twitter JSON dataset used in [tutorial 2](http://nbviewer.ipython.org/url/mediamining.univ-lyon2.fr/~andrei/sna-lab-ipython/tutorial-2-construct-network-real-twitter-dump.ipynb). \n",
      "\n",
      "The dataset is [available to download here](http://mediamining.univ-lyon2.fr/~andrei/sna-lab-ipython/twitter-dump.json.bz2). \n",
      "\n",
      "Print the text of the 10 most positive and the 10 most negative tweets. \n",
      "\n",
      "We consider that a tweet $t_1$ is more positive than another tweet $t_2$ when score of the former is higher than the score of the latter ($score(t_1) > score(t_2)$). \n",
      "\n",
      "Similarly, a tweet $t_1$ is more negative than $t_2$ when $score(t_1) < score(t_2)$.  \n",
      "\n",
      "**HINT:** Load the tweets one by one as seen in tutorial 2 and extract the text, which is found in the field *text* of each tweet."
     ]
    },
    {
     "cell_type": "code",
     "collapsed": true,
     "input": [
      "# open the bzipped dataset\n",
      "import sys\n",
      "import bz2, json\n",
      "\n",
      "reload(sys)\n",
      "sys.setdefaultencoding('utf8')\n",
      "\n",
      "reader = bz2.BZ2File(\"./twitter-dump.json.bz2\", mode=\"r\")\n",
      "\n",
      "texts = {}\n",
      "\n",
      "for line in reader:\n",
      "    jobj = json.loads(line)\n",
      "\n",
      "    text = jobj[u'text']\n",
      "    if isinstance(text, dict):\n",
      "        text = text.values()[0]\n",
      "        texts[text] = get_sentiment_score(text)\n",
      "\n",
      "print \"Top 10 positive tweets:\"\n",
      "newA = dict(sorted(texts.iteritems(), key=operator.itemgetter(1), reverse=True)[:10])\n",
      "\n",
      "print \"Top 10 negative tweets:\"\n",
      "newA = dict(sorted(texts.iteritems(), key=operator.itemgetter(1), reverse=False)[:10])"
     ],
     "language": "python",
     "metadata": {},
     "outputs": [
      {
       "ename": "NameError",
       "evalue": "name 'bz2' is not defined",
       "output_type": "pyerr",
       "traceback": [
        "\u001b[0;31m---------------------------------------------------------------------------\u001b[0m\n\u001b[0;31mNameError\u001b[0m                                 Traceback (most recent call last)",
        "\u001b[0;32m<ipython-input-1-73f7ab07a661>\u001b[0m in \u001b[0;36m<module>\u001b[0;34m()\u001b[0m\n\u001b[1;32m      5\u001b[0m \u001b[0msys\u001b[0m\u001b[0;34m.\u001b[0m\u001b[0msetdefaultencoding\u001b[0m\u001b[0;34m(\u001b[0m\u001b[0;34m'utf8'\u001b[0m\u001b[0;34m)\u001b[0m\u001b[0;34m\u001b[0m\u001b[0m\n\u001b[1;32m      6\u001b[0m \u001b[0;34m\u001b[0m\u001b[0m\n\u001b[0;32m----> 7\u001b[0;31m \u001b[0mreader\u001b[0m \u001b[0;34m=\u001b[0m \u001b[0mbz2\u001b[0m\u001b[0;34m.\u001b[0m\u001b[0mBZ2File\u001b[0m\u001b[0;34m(\u001b[0m\u001b[0;34m\"./twitter-dump.json.bz2\"\u001b[0m\u001b[0;34m,\u001b[0m \u001b[0mmode\u001b[0m\u001b[0;34m=\u001b[0m\u001b[0;34m\"r\"\u001b[0m\u001b[0;34m)\u001b[0m\u001b[0;34m\u001b[0m\u001b[0m\n\u001b[0m\u001b[1;32m      8\u001b[0m \u001b[0;34m\u001b[0m\u001b[0m\n\u001b[1;32m      9\u001b[0m \u001b[0mtexts\u001b[0m \u001b[0;34m=\u001b[0m \u001b[0;34m{\u001b[0m\u001b[0;34m}\u001b[0m\u001b[0;34m\u001b[0m\u001b[0m\n",
        "\u001b[0;31mNameError\u001b[0m: name 'bz2' is not defined"
       ]
      }
     ],
     "prompt_number": 1
    },
    {
     "cell_type": "markdown",
     "metadata": {},
     "source": [
      "**(1 point) Assignment question #3.2:** Based on the scores calculated in **Assignment #3.1**, determine the 3 most positive users. A user $u_1$ is more positive than a user $u_2$ if the dataset contains more positive tweets emitted by $u_1$ than tweets emitted by $u_2$. Formally:\n",
      "\n",
      "$$ positivity(u_1) > positivity(u_2) \\iff \\left| \\left\\{ t \\, \\middle| \\, author(t) = u_1 \\wedge score(t) > 0 \\right\\} \\right| > \\left| \\left\\{ t \\, \\middle| \\, author(t) = u_2 \\wedge score(t) > 0 \\right\\} \\right|$$"
     ]
    },
    {
     "cell_type": "code",
     "collapsed": true,
     "input": [
      "# code or answer for question. In case of plain text answer, change the type of cell to \"Raw Text\" using the toolbar."
     ],
     "language": "python",
     "metadata": {},
     "outputs": [],
     "prompt_number": 28
    },
    {
     "cell_type": "markdown",
     "metadata": {},
     "source": [
      "**Bonus assignment (1 additional points will be given if you solve this assignment correctly, no penalty if you do not solve it. Note that the total grade of SMA assignments cannot exceed 8 points, therefore the bonus point can only be used to compensate for another question which you did not solve corectly):**  \n",
      "\n",
      "We have discussed earlier that our system is fragile to negations: it will score the expression *not beautiful* as positive because it only detects the word beautiful as positive. \n",
      "\n",
      "More generally, we consider that the token **not** changes the polarity of a given token: **not beautiful** becames negative, while **not bad** becomes positive.  \n",
      "\n",
      "Modify the function `get_sentiment_score(text)` to detect the changes of polarity due to the token **not**."
     ]
    },
    {
     "cell_type": "code",
     "collapsed": true,
     "input": [
      "# code or answer for question. In case of plain text answer, change the type of cell to \"Raw Text\" using the toolbar."
     ],
     "language": "python",
     "metadata": {},
     "outputs": [],
     "prompt_number": 29
    }
   ],
   "metadata": {}
  }
 ]
}