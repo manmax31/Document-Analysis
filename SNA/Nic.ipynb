{
 "metadata": {
  "name": "Nic.ipynb",
  "signature": "sha256:551f45f00e780765728a8a54e53e6e54433df1445e9e06e4e2c4b9d8543e6ce0"
 },
 "nbformat": 3,
 "nbformat_minor": 0,
 "worksheets": [
  {
   "cells": [
    {
     "cell_type": "markdown",
     "metadata": {},
     "source": [
      "**Student first name:** *Mingyuan*   \n",
      "\n",
      "**Student last name:** *Cui*  \n",
      "\n",
      "**Student ANU UNI ID:** *u5323288*"
     ]
    },
    {
     "cell_type": "markdown",
     "metadata": {},
     "source": [
      "COMP4650 Social Media Assignment Submission (8 points)\n",
      "==="
     ]
    },
    {
     "cell_type": "markdown",
     "metadata": {},
     "source": [
      "1. Assignment questions related to tutorial 1: Constructing and analyzing a social network\n",
      "---"
     ]
    },
    {
     "cell_type": "markdown",
     "metadata": {},
     "source": [
      "This initial code is necessary for loading into this notebook's Python kernel the object necessary for this part of the assignment. Run the next cell before starting to work on the assignment questions below."
     ]
    },
    {
     "cell_type": "code",
     "collapsed": false,
     "input": [
      "# necessary imports\n",
      "\n",
      "import csv\n",
      "\n",
      "import urllib2\n",
      "\n",
      "import networkx as nx\n",
      "\n",
      "\n",
      "\n",
      "# opening a local CSV file\n",
      "\n",
      "to_read = file(\"./dataset.csv\")  #use this line for a locally downloaded file\n",
      "\n",
      "# or reading it directly from the specified URL\n",
      "\n",
      "#url = 'http://mediamining.univ-lyon2.fr/~andrei/sna-lab-ipython/dataset.csv'\n",
      "\n",
      "#to_read = urllib2.urlopen(url)\n",
      "\n",
      "reader = csv.reader(to_read)\n",
      "\n",
      "\n",
      "\n",
      "#  construct the networkx graph\n",
      "\n",
      "G = nx.Graph()\n",
      "\n",
      "for line in reader:\n",
      "\n",
      "    if line[0] not in G:  G.add_node(line[0])\n",
      "\n",
      "    if line[1] not in G:  G.add_node(line[1])\n",
      "\n",
      "    G.add_edge(line[0], line[1])"
     ],
     "language": "python",
     "metadata": {},
     "outputs": []
    },
    {
     "cell_type": "markdown",
     "metadata": {},
     "source": [
      "**(1 point) Assignment question #1.1:** Find another way of determining the number of users, by applying a (networkx) graph method."
     ]
    },
    {
     "cell_type": "code",
     "collapsed": true,
     "input": [
      "print \"The social graph contains %s users.\" % len(G.nodes())"
     ],
     "language": "python",
     "metadata": {},
     "outputs": []
    },
    {
     "cell_type": "markdown",
     "metadata": {},
     "source": [
      "**(0.5 points) Assignment question #1.2:** What is the minimum number of introductions required for the user `'137056623'` to reach any other user? "
     ]
    },
    {
     "cell_type": "code",
     "collapsed": true,
     "input": [
      "no_hops = max([nx.shortest_path_length(G, source = '137056623', target = x) for x in G.nodes()])\n",
      "print \"Using %d introductions, '137056623' can reach any other one in the network\" % no_hops"
     ],
     "language": "python",
     "metadata": {},
     "outputs": []
    },
    {
     "cell_type": "markdown",
     "metadata": {},
     "source": [
      "**(0.5 points) Assignment question #1.3:** What is the minimum number of introductions required for the any user to reach any other user in the  network?  \n",
      "\n",
      "**HINT:** study the `shortest_path_length` method description."
     ]
    },
    {
     "cell_type": "code",
     "collapsed": true,
     "input": [
      "no_hops = max([nx.shortest_path_length(G, source = x, target = y) for x in G.nodes() for y in G.nodes() if x!=y])\n",
      "print \"Using %d introductions, anyone can reach any other one in the network\" % no_hops"
     ],
     "language": "python",
     "metadata": {},
     "outputs": []
    },
    {
     "cell_type": "markdown",
     "metadata": {},
     "source": [
      "**(0.5 points) Assignment question #1.4:** The _diameter_ $d$ of a graph is the maximum eccentricity of any node, $d = \\max_{v} \\epsilon(v)$. Give two ways to compute the diameter of the social network G (one using the calculated eccentricity values calculated earlier and another one using the dedicated `networkx` function)."
     ]
    },
    {
     "cell_type": "code",
     "collapsed": true,
     "input": [
      "import operator\n",
      "ec = nx.eccentricity(G)\n",
      "print \"The diameter of graph G is '%s'\" %max(ec.iteritems(), key=operator.itemgetter(1))[1] # method 1\n",
      "print \"The diameter of graph G is '%s'\" %nx.diameter(G) # method 2"
     ],
     "language": "python",
     "metadata": {},
     "outputs": []
    },
    {
     "cell_type": "markdown",
     "metadata": {},
     "source": [
      "**(0.5 points) Assignment question #1.5:** Determine ALL most central node(s) and ALL most central edge(s), with respect to the node and edge betweenes centrality. Remember that two or more nodes/edges may have the same centrality score and they ALL need to be determined for this assignment."
     ]
    },
    {
     "cell_type": "code",
     "collapsed": true,
     "input": [
      "nodeCB=nx.betweenness_centrality(G)\n",
      "maxNodeCB=max(nodeCB.iteritems(), key=operator.itemgetter(1))[1]\n",
      "print \"The most central nodes are: \",[x for x in nodeCB.keys() if nodeCB[x]==maxNodeCB]\n",
      "edgeCB=nx.edge_betweenness_centrality(G)\n",
      "maxEdgeCB=max(edgeCB.iteritems(), key=operator.itemgetter(1))[1]\n",
      "print \"The most central edges are: \",[x for x in edgeCB.keys() if edgeCB[x]==maxEdgeCB]"
     ],
     "language": "python",
     "metadata": {},
     "outputs": []
    },
    {
     "cell_type": "markdown",
     "metadata": {},
     "source": [
      "2. Assignment questions related to the tutorial 2: constructing a network from real data\n",
      "---"
     ]
    },
    {
     "cell_type": "markdown",
     "metadata": {},
     "source": [
      "**(0 points) Preliminary assignment question #2.1:** Starting from [the same bzipped JSON twitter dataset](http://mediamining.univ-lyon2.fr/~andrei/sna-lab-ipython/twitter-dump.json.bz2), construct the social graph based on the reply relation. Analyse (as shown in *Step 3*) which fields you require and give the Python code necessary for constructing the network. \n",
      "\n",
      "**NOTE:** all the subsequent questions of this subsection are to be solved on the graph constructed at this question."
     ]
    },
    {
     "cell_type": "markdown",
     "metadata": {},
     "source": [
      "\"# cell for analysis of required fields\""
     ]
    },
    {
     "cell_type": "code",
     "collapsed": true,
     "input": [
      "import networkx as nx\n",
      "import bz2, json\n",
      "\n",
      "# open the bzipped dataset\n",
      "reader = bz2.BZ2File(\"./twitter-dump.json.bz2\", mode=\"r\")\n",
      "#  construct the networkx graph\n",
      "\n",
      "\n",
      "\n",
      "\n",
      "DG = nx.DiGraph()\n",
      "\n",
      "\n",
      "\n",
      "# go line by line (ergo, tweet by tweet)\n",
      "for line in reader:\n",
      "    # load the JSON object from the read line\n",
      "    jobj = json.loads(line)\n",
      "    \n",
      "    # if the current tweet is a retweet\n",
      "    if jobj[u'in_reply_to_user_id']!=None:\n",
      "        # determine user id\n",
      "        user_id = jobj[u'user'][u'id']\n",
      "        if isinstance(user_id, dict):\n",
      "            user_id = user_id.values()[0]\n",
      "        user_id = int(user_id)\n",
      "    \n",
      "        # determine the replied user id\n",
      "        replied_user_id = jobj[u'in_reply_to_user_id']\n",
      "\n",
      "        if isinstance(replied_user_id, dict):\n",
      "            replied_user_id = replied_user_id.values()[0]\n",
      "        replied_user_id = int(replied_user_id)\n",
      "        \n",
      "        # add the two nodes in the graph, if not already there\n",
      "        if user_id not in DG:  DG.add_node(user_id)\n",
      "        if replied_user_id not in DG:  DG.add_node(replied_user_id)\n",
      "        DG.add_edge(user_id, replied_user_id)"
     ],
     "language": "python",
     "metadata": {},
     "outputs": [],
     "prompt_number": 4
    },
    {
     "cell_type": "markdown",
     "metadata": {},
     "source": [
      "**(1 point) Assignment question #2.2:** How many nodes and edges do you have in the resulted reply graph?"
     ]
    },
    {
     "cell_type": "code",
     "collapsed": true,
     "input": [
      "print \"Number of nodes: %d\" % DG.number_of_nodes()\n",
      "print \"Number of edges: %d\" % DG.number_of_edges()"
     ],
     "language": "python",
     "metadata": {},
     "outputs": [
      {
       "output_type": "stream",
       "stream": "stdout",
       "text": [
        "Number of nodes: 735\n",
        "Number of edges: 622\n"
       ]
      }
     ],
     "prompt_number": 4
    },
    {
     "cell_type": "markdown",
     "metadata": {},
     "source": [
      "**(1 point) Assignment question #2.3:** Using the `networkx` functions, filter the social graph to its *giant connected component*. \n",
      "\n",
      "Calculate for this new graph: i) the number of nodes, ii) the number of edges, iii) the radius and iv) the diameter.  \n",
      "\n",
      "**HINT:** You can either construct a new graph which contains only the nodes and edges in the *giant connected component* or you can remove from your initial graph all the nodes and edges belonging to the other connected components.  \n",
      "\n",
      "**NOTE:** This assignments is to be done on the UNDIRECTED version of the social graph. Considering that *DG* is the constructed directed networkx graph, do:"
     ]
    },
    {
     "cell_type": "code",
     "collapsed": true,
     "input": [
      "# create an undirected copy of our graph\n",
      "\n",
      "G = DG.to_undirected()\n",
      "G=sorted(nx.connected_component_subgraphs(G), key = len, reverse=True)[0]\n",
      "\n",
      "# code or answer for question. In case of plain text answer, change the type of cell to \"Raw Text\" using the toolbar.\n",
      "print \"Number of nodes: %d\" % G.number_of_nodes()\n",
      "print \"Number of edges: %d\" % G.number_of_edges()\n",
      "print \"Radius: %d\" % nx.radius(G)\n",
      "print \"Diameter: %d\" % nx.diameter(G)"
     ],
     "language": "python",
     "metadata": {},
     "outputs": []
    },
    {
     "cell_type": "markdown",
     "metadata": {},
     "source": [
      "**(1 point) Assignment question #2.4:** This assignment question is to calculate iterativelly the basic form of the PageRank on the reply social graph constructed previously. Considering that *DG* is the constructed directed networkx graph constructed at the **Assignment questions #2.1**. We will construct the *PageRank* on the largest [*weakly connected component*](http://en.wikipedia.org/wiki/Connectivity_%28graph_theory%29). This is constructed as shown hereafter.\n",
      "\n",
      "Your job is to compute the PageRank, using the algorithm provided in the tutorial and exemplified in the lecture notes.\n",
      "\n",
      "Use a maximum of $maxiter = 20$ iterations."
     ]
    },
    {
     "cell_type": "code",
     "collapsed": false,
     "input": [
      "import operator\n",
      "\n",
      "from itertools import islice\n",
      "\n",
      "\n",
      "\n",
      "# get the list of weakly connected components, sorted by size\n",
      "\n",
      "omp_List = sorted(nx.weakly_connected_component_subgraphs(DG), key = len, reverse=True)\n",
      "\n",
      "\n",
      "\n",
      "# we want the first component, the biggest\n",
      "\n",
      "WCDG = omp_List[0]\n",
      "\n",
      "\n",
      "\n",
      "# get the number of nodes of the graph\n",
      "\n",
      "n = len(WCDG.nodes())\n",
      "\n",
      "\n",
      "\n",
      "# initialize the PR at moment 0 using a dictionary of pairs {node : score}\n",
      "\n",
      "PR = {}\n",
      "\n",
      "for node in WCDG.nodes():\n",
      "\n",
      "    PR[node] = 1.0/n\n",
      "\n",
      "\n",
      "\n",
      "# initialize variables\n",
      "\n",
      "no_iter=0     # current iteration\n",
      "\n",
      "iter_max=20   # maximum number of iterations\n",
      "\n",
      "d = 0.7       # decay factor\n",
      "\n",
      "while no_iter < iter_max: # iterate until maximum iterations\n",
      "\n",
      "    \n",
      "\n",
      "    # at each iteration, we compute a new version of the PageRank for each node\n",
      "\n",
      "    new_PR = {}\n",
      "\n",
      "    no_iter = no_iter + 1\n",
      "\n",
      "    \n",
      "\n",
      "    # calculate the PageRank of each node (`new_PR[node]`), based on the previous values (`PR[other_nodes]`)\n",
      "\n",
      "    for node in WCDG.nodes():\n",
      "\n",
      "        ## code for calculating new_PR[node].\n",
      "        backNodes=set([x[0] for x in DG.edges() if x[1]==node])\n",
      "        PR_of_node=(1-d)/n\n",
      "        for backNode in backNodes:\n",
      "            no_of_out_Links=len([x for x in DG.edges() if x[0]==backNode])\n",
      "            PR_of_node+=d*PR[backNode]/no_of_out_Links\n",
      "        new_PR[node]=PR_of_node\n",
      "\n",
      "        \n",
      "\n",
      "    # at the end of iteration, replace old values of PR with the new ones\n",
      "\n",
      "    PR = new_PR\n",
      "\n",
      "    \n",
      "\n",
      "# even if a dictionary is not sorted (it is just a collection) we sort it so that the next\n",
      "\n",
      "# printing at the screen shows some interesting values\n",
      "\n",
      "sorted_PR = sorted(PR.iteritems(), key=operator.itemgetter(1), reverse=True)\n",
      "\n",
      "\n",
      "\n",
      "# and print it out the first 10 elements\n",
      "\n",
      "dict(islice(sorted_PR, 10))"
     ],
     "language": "python",
     "metadata": {},
     "outputs": [
      {
       "metadata": {},
       "output_type": "pyout",
       "prompt_number": 5,
       "text": [
        "{34359954: 0.004483870967741935,\n",
        " 34507480: 0.20229379652869947,\n",
        " 153694176: 0.0026774193548387095,\n",
        " 217733121: 0.0006451612903225808,\n",
        " 261289587: 0.000870967741935484,\n",
        " 271239188: 0.0009925558321466847,\n",
        " 336555582: 0.0010967741935483872,\n",
        " 1188471348: 0.0009925558321466847,\n",
        " 1456140289: 0.0006451612903225808,\n",
        " 2502937470: 0.0009925558321466847}"
       ]
      }
     ],
     "prompt_number": 5
    },
    {
     "cell_type": "markdown",
     "metadata": {},
     "source": [
      "3. Assignment questions related to the tutorial 3: sentiment analysis\n",
      "---"
     ]
    },
    {
     "cell_type": "markdown",
     "metadata": {},
     "source": [
      "The following code is necessary to define the sentiment scoring function that was constructed in the tutorial. Run this before continuing with the assignments:"
     ]
    },
    {
     "cell_type": "code",
     "collapsed": false,
     "input": [
      "from nltk.stem.wordnet import WordNetLemmatizer\n",
      "\n",
      "import nltk\n",
      "\n",
      "\n",
      "\n",
      "# define the lemmatizer\n",
      "\n",
      "lmtzr = WordNetLemmatizer()\n",
      "\n",
      "\n",
      "\n",
      "# read the positive and negative lexicon in lists of words\n",
      "\n",
      "positive_words = [lmtzr.lemmatize(line.strip()) for line in open('sentiment-lexicon-positive-words.txt')]\n",
      "\n",
      "negative_words = [lmtzr.lemmatize(line.strip()) for line in open('sentiment-lexicon-negative-words.txt')]\n",
      "\n",
      "\n",
      "\n",
      "# define the function that computes the sentiment score\n",
      "\n",
      "def get_sentiment_score(text):\n",
      "\n",
      "    # tokenize and lemmatize the current tweet\n",
      "\n",
      "    tokens = nltk.word_tokenize(text)\n",
      "\n",
      "    tweet = [lmtzr.lemmatize(x.lower()) for x in tokens if len(x) >= 3]\n",
      "\n",
      "\n",
      "\n",
      "    # calculate the sentiment score\n",
      "\n",
      "    score = 0\n",
      "\n",
      "    for word in tweet:\n",
      "\n",
      "        if word in positive_words:\n",
      "\n",
      "            score = score + 1\n",
      "\n",
      "        if word in negative_words:\n",
      "\n",
      "            score = score - 1\n",
      "\n",
      "    \n",
      "\n",
      "    return score"
     ],
     "language": "python",
     "metadata": {},
     "outputs": [],
     "prompt_number": 7
    },
    {
     "cell_type": "markdown",
     "metadata": {},
     "source": [
      "**(1 point) Assignment question #3.1:** Use the `get_sentiment_score(text)`, the sentiment scoring function defined before, and calculate the sentiment polarity of the tweets in the Twitter JSON dataset used in [tutorial 2](http://nbviewer.ipython.org/url/mediamining.univ-lyon2.fr/~andrei/sna-lab-ipython/tutorial-2-construct-network-real-twitter-dump.ipynb). \n",
      "\n",
      "The dataset is [available to download here](http://mediamining.univ-lyon2.fr/~andrei/sna-lab-ipython/twitter-dump.json.bz2). \n",
      "\n",
      "Print the text of the 10 most positive and the 10 most negative tweets. \n",
      "\n",
      "We consider that a tweet $t_1$ is more positive than another tweet $t_2$ when score of the former is higher than the score of the latter ($score(t_1) > score(t_2)$). \n",
      "\n",
      "Similarly, a tweet $t_1$ is more negative than $t_2$ when $score(t_1) < score(t_2)$.  \n",
      "\n",
      "**HINT:** Load the tweets one by one as seen in tutorial 2 and extract the text, which is found in the field *text* of each tweet."
     ]
    },
    {
     "cell_type": "code",
     "collapsed": true,
     "input": [
      "# code or answer for question. In case of plain text answer, change the type of cell to \"Raw Text\" using the toolbar.\n",
      "import networkx as nx\n",
      "import bz2, json\n",
      "import sys  \n",
      "import nltk\n",
      "\n",
      "# define the function that computes the sentiment score\n",
      "def get_sentiment_score(text):\n",
      "    # tokenize and lemmatize the current tweet\n",
      "    tokens = nltk.word_tokenize(text)\n",
      "    tweet = [lmtzr.lemmatize(x.lower()) for x in tokens if len(x) >= 3]\n",
      "\n",
      "    # calculate the sentiment score\n",
      "    score = 0\n",
      "    for word in tweet:\n",
      "        if word in positive_words:\n",
      "            score = score + 1\n",
      "            print \"+1\", word\n",
      "        if word in negative_words:\n",
      "            score = score - 1\n",
      "            print \"-1\", word\n",
      "    \n",
      "    return score\n",
      "\n",
      "reload(sys)  \n",
      "sys.setdefaultencoding('utf8')\n",
      "\n",
      "# open the bzipped dataset\n",
      "reader = bz2.BZ2File(\"./twitter-dump.json.bz2\", mode=\"r\")\n",
      "\n",
      "# add tweets to a list\n",
      "user_tweets={}\n",
      "tweets=[]\n",
      "for line in reader:\n",
      "    # load the JSON object from the read line\n",
      "    jobj = json.loads(line)\n",
      "    tweet = jobj[u'text']\n",
      "    if isinstance(tweet, dict):\n",
      "        tweet = tweet.values()[0]\n",
      "        \n",
      "    user_id = jobj[u'user'][u'id']\n",
      "    if isinstance(user_id, dict):\n",
      "        user_id = user_id.values()[0]\n",
      "    user_id = int(user_id)\n",
      "    \n",
      "    tweets.append(tweet)\n",
      "    if user_id in user_tweets:\n",
      "        user_tweets[user_id].add(tweet)\n",
      "    else:\n",
      "        user_tweets[user_id]={tweet}\n",
      "\n",
      "from nltk.stem.wordnet import WordNetLemmatizer\n",
      "\n",
      "# define the lemmatizer\n",
      "lmtzr = WordNetLemmatizer()\n",
      "\n",
      "# read the positive and negative lexicon in lists of words\n",
      "positive_words = [lmtzr.lemmatize(line.strip()) for line in open('sentiment-lexicon-positive-words.txt')]\n",
      "negative_words = [lmtzr.lemmatize(line.strip()) for line in open('sentiment-lexicon-negative-words.txt')]\n",
      "\n",
      "positive_scores={}\n",
      "negative_scores={}\n",
      "for words in tweets:\n",
      "    score=get_sentiment_score(words)\n",
      "    if score>0:\n",
      "        positive_scores[words]=score\n",
      "    if score<0:\n",
      "        negative_scores[words]=score\n",
      "positive_tweets=sorted(positive_scores.iteritems(), key=operator.itemgetter(1),reverse=True)\n",
      "negative_tweets=sorted(negative_scores.iteritems(), key=operator.itemgetter(1))\n",
      "print \"top ten positive tweets are:\"\n",
      "for i in range(10):\n",
      "    print \"tweet:\",positive_tweets[i][0],\"score:\",positive_tweets[i][1]\n",
      "print \"top ten negative tweets are:\"\n",
      "for i in range(10):\n",
      "    print \"tweet:\",negative_tweets[i][0],\"score:\",negative_tweets[i][1]"
     ],
     "language": "python",
     "metadata": {},
     "outputs": [
      {
       "ename": "UnicodeDecodeError",
       "evalue": "'utf8' codec can't decode byte 0xcc in position 2: invalid continuation byte",
       "output_type": "pyerr",
       "traceback": [
        "\u001b[0;31m---------------------------------------------------------------------------\u001b[0m\n\u001b[0;31mUnicodeDecodeError\u001b[0m                        Traceback (most recent call last)",
        "\u001b[0;32m<ipython-input-3-582c09f52b5e>\u001b[0m in \u001b[0;36m<module>\u001b[0;34m()\u001b[0m\n\u001b[1;32m     57\u001b[0m \u001b[0;31m# read the positive and negative lexicon in lists of words\u001b[0m\u001b[0;34m\u001b[0m\u001b[0;34m\u001b[0m\u001b[0m\n\u001b[1;32m     58\u001b[0m \u001b[0mpositive_words\u001b[0m \u001b[0;34m=\u001b[0m \u001b[0;34m[\u001b[0m\u001b[0mlmtzr\u001b[0m\u001b[0;34m.\u001b[0m\u001b[0mlemmatize\u001b[0m\u001b[0;34m(\u001b[0m\u001b[0mline\u001b[0m\u001b[0;34m.\u001b[0m\u001b[0mstrip\u001b[0m\u001b[0;34m(\u001b[0m\u001b[0;34m)\u001b[0m\u001b[0;34m)\u001b[0m \u001b[0;32mfor\u001b[0m \u001b[0mline\u001b[0m \u001b[0;32min\u001b[0m \u001b[0mopen\u001b[0m\u001b[0;34m(\u001b[0m\u001b[0;34m'sentiment-lexicon-positive-words.txt'\u001b[0m\u001b[0;34m)\u001b[0m\u001b[0;34m]\u001b[0m\u001b[0;34m\u001b[0m\u001b[0m\n\u001b[0;32m---> 59\u001b[0;31m \u001b[0mnegative_words\u001b[0m \u001b[0;34m=\u001b[0m \u001b[0;34m[\u001b[0m\u001b[0mlmtzr\u001b[0m\u001b[0;34m.\u001b[0m\u001b[0mlemmatize\u001b[0m\u001b[0;34m(\u001b[0m\u001b[0mline\u001b[0m\u001b[0;34m.\u001b[0m\u001b[0mstrip\u001b[0m\u001b[0;34m(\u001b[0m\u001b[0;34m)\u001b[0m\u001b[0;34m)\u001b[0m \u001b[0;32mfor\u001b[0m \u001b[0mline\u001b[0m \u001b[0;32min\u001b[0m \u001b[0mopen\u001b[0m\u001b[0;34m(\u001b[0m\u001b[0;34m'sentiment-lexicon-negative-words.txt'\u001b[0m\u001b[0;34m)\u001b[0m\u001b[0;34m]\u001b[0m\u001b[0;34m\u001b[0m\u001b[0m\n\u001b[0m\u001b[1;32m     60\u001b[0m \u001b[0;34m\u001b[0m\u001b[0m\n\u001b[1;32m     61\u001b[0m \u001b[0mpositive_scores\u001b[0m\u001b[0;34m=\u001b[0m\u001b[0;34m{\u001b[0m\u001b[0;34m}\u001b[0m\u001b[0;34m\u001b[0m\u001b[0m\n",
        "\u001b[0;32m/Users/manabchetia/Library/Enthought/Canopy_64bit/User/lib/python2.7/site-packages/nltk/stem/wordnet.pyc\u001b[0m in \u001b[0;36mlemmatize\u001b[0;34m(self, word, pos)\u001b[0m\n\u001b[1;32m     38\u001b[0m \u001b[0;34m\u001b[0m\u001b[0m\n\u001b[1;32m     39\u001b[0m     \u001b[0;32mdef\u001b[0m \u001b[0mlemmatize\u001b[0m\u001b[0;34m(\u001b[0m\u001b[0mself\u001b[0m\u001b[0;34m,\u001b[0m \u001b[0mword\u001b[0m\u001b[0;34m,\u001b[0m \u001b[0mpos\u001b[0m\u001b[0;34m=\u001b[0m\u001b[0mNOUN\u001b[0m\u001b[0;34m)\u001b[0m\u001b[0;34m:\u001b[0m\u001b[0;34m\u001b[0m\u001b[0m\n\u001b[0;32m---> 40\u001b[0;31m         \u001b[0mlemmas\u001b[0m \u001b[0;34m=\u001b[0m \u001b[0mwordnet\u001b[0m\u001b[0;34m.\u001b[0m\u001b[0m_morphy\u001b[0m\u001b[0;34m(\u001b[0m\u001b[0mword\u001b[0m\u001b[0;34m,\u001b[0m \u001b[0mpos\u001b[0m\u001b[0;34m)\u001b[0m\u001b[0;34m\u001b[0m\u001b[0m\n\u001b[0m\u001b[1;32m     41\u001b[0m         \u001b[0;32mreturn\u001b[0m \u001b[0mmin\u001b[0m\u001b[0;34m(\u001b[0m\u001b[0mlemmas\u001b[0m\u001b[0;34m,\u001b[0m \u001b[0mkey\u001b[0m\u001b[0;34m=\u001b[0m\u001b[0mlen\u001b[0m\u001b[0;34m)\u001b[0m \u001b[0;32mif\u001b[0m \u001b[0mlemmas\u001b[0m \u001b[0;32melse\u001b[0m \u001b[0mword\u001b[0m\u001b[0;34m\u001b[0m\u001b[0m\n\u001b[1;32m     42\u001b[0m \u001b[0;34m\u001b[0m\u001b[0m\n",
        "\u001b[0;32m/Users/manabchetia/Library/Enthought/Canopy_64bit/User/lib/python2.7/site-packages/nltk/corpus/reader/wordnet.pyc\u001b[0m in \u001b[0;36m_morphy\u001b[0;34m(self, form, pos)\u001b[0m\n\u001b[1;32m   1649\u001b[0m \u001b[0;34m\u001b[0m\u001b[0m\n\u001b[1;32m   1650\u001b[0m         \u001b[0;31m# 1. Apply rules once to the input to get y1, y2, y3, etc.\u001b[0m\u001b[0;34m\u001b[0m\u001b[0;34m\u001b[0m\u001b[0m\n\u001b[0;32m-> 1651\u001b[0;31m         \u001b[0mforms\u001b[0m \u001b[0;34m=\u001b[0m \u001b[0mapply_rules\u001b[0m\u001b[0;34m(\u001b[0m\u001b[0;34m[\u001b[0m\u001b[0mform\u001b[0m\u001b[0;34m]\u001b[0m\u001b[0;34m)\u001b[0m\u001b[0;34m\u001b[0m\u001b[0m\n\u001b[0m\u001b[1;32m   1652\u001b[0m \u001b[0;34m\u001b[0m\u001b[0m\n\u001b[1;32m   1653\u001b[0m         \u001b[0;31m# 2. Return all that are in the database (and check the original too)\u001b[0m\u001b[0;34m\u001b[0m\u001b[0;34m\u001b[0m\u001b[0m\n",
        "\u001b[0;32m/Users/manabchetia/Library/Enthought/Canopy_64bit/User/lib/python2.7/site-packages/nltk/corpus/reader/wordnet.pyc\u001b[0m in \u001b[0;36mapply_rules\u001b[0;34m(forms)\u001b[0m\n\u001b[1;32m   1631\u001b[0m                     \u001b[0;32mfor\u001b[0m \u001b[0mform\u001b[0m \u001b[0;32min\u001b[0m \u001b[0mforms\u001b[0m\u001b[0;34m\u001b[0m\u001b[0m\n\u001b[1;32m   1632\u001b[0m                     \u001b[0;32mfor\u001b[0m \u001b[0mold\u001b[0m\u001b[0;34m,\u001b[0m \u001b[0mnew\u001b[0m \u001b[0;32min\u001b[0m \u001b[0msubstitutions\u001b[0m\u001b[0;34m\u001b[0m\u001b[0m\n\u001b[0;32m-> 1633\u001b[0;31m                     if form.endswith(old)]\n\u001b[0m\u001b[1;32m   1634\u001b[0m \u001b[0;34m\u001b[0m\u001b[0m\n\u001b[1;32m   1635\u001b[0m         \u001b[0;32mdef\u001b[0m \u001b[0mfilter_forms\u001b[0m\u001b[0;34m(\u001b[0m\u001b[0mforms\u001b[0m\u001b[0;34m)\u001b[0m\u001b[0;34m:\u001b[0m\u001b[0;34m\u001b[0m\u001b[0m\n",
        "\u001b[0;32m/Applications/Canopy.app/appdata/canopy-1.4.1.1975.macosx-x86_64/Canopy.app/Contents/lib/python2.7/encodings/utf_8.pyc\u001b[0m in \u001b[0;36mdecode\u001b[0;34m(input, errors)\u001b[0m\n\u001b[1;32m     14\u001b[0m \u001b[0;34m\u001b[0m\u001b[0m\n\u001b[1;32m     15\u001b[0m \u001b[0;32mdef\u001b[0m \u001b[0mdecode\u001b[0m\u001b[0;34m(\u001b[0m\u001b[0minput\u001b[0m\u001b[0;34m,\u001b[0m \u001b[0merrors\u001b[0m\u001b[0;34m=\u001b[0m\u001b[0;34m'strict'\u001b[0m\u001b[0;34m)\u001b[0m\u001b[0;34m:\u001b[0m\u001b[0;34m\u001b[0m\u001b[0m\n\u001b[0;32m---> 16\u001b[0;31m     \u001b[0;32mreturn\u001b[0m \u001b[0mcodecs\u001b[0m\u001b[0;34m.\u001b[0m\u001b[0mutf_8_decode\u001b[0m\u001b[0;34m(\u001b[0m\u001b[0minput\u001b[0m\u001b[0;34m,\u001b[0m \u001b[0merrors\u001b[0m\u001b[0;34m,\u001b[0m \u001b[0mTrue\u001b[0m\u001b[0;34m)\u001b[0m\u001b[0;34m\u001b[0m\u001b[0m\n\u001b[0m\u001b[1;32m     17\u001b[0m \u001b[0;34m\u001b[0m\u001b[0m\n\u001b[1;32m     18\u001b[0m \u001b[0;32mclass\u001b[0m \u001b[0mIncrementalEncoder\u001b[0m\u001b[0;34m(\u001b[0m\u001b[0mcodecs\u001b[0m\u001b[0;34m.\u001b[0m\u001b[0mIncrementalEncoder\u001b[0m\u001b[0;34m)\u001b[0m\u001b[0;34m:\u001b[0m\u001b[0;34m\u001b[0m\u001b[0m\n",
        "\u001b[0;31mUnicodeDecodeError\u001b[0m: 'utf8' codec can't decode byte 0xcc in position 2: invalid continuation byte"
       ]
      }
     ],
     "prompt_number": 3
    },
    {
     "cell_type": "markdown",
     "metadata": {},
     "source": [
      "**(1 point) Assignment question #3.2:** Based on the scores calculated in **Assignment #3.1**, determine the 3 most positive users. A user $u_1$ is more positive than a user $u_2$ if the dataset contains more positive tweets emitted by $u_1$ than tweets emitted by $u_2$. Formally:\n",
      "\n",
      "$$ positivity(u_1) > positivity(u_2) \\iff \\left| \\left\\{ t \\, \\middle| \\, author(t) = u_1 \\wedge score(t) > 0 \\right\\} \\right| > \\left| \\left\\{ t \\, \\middle| \\, author(t) = u_2 \\wedge score(t) > 0 \\right\\} \\right|$$"
     ]
    },
    {
     "cell_type": "code",
     "collapsed": true,
     "input": [
      "# code or answer for question. In case of plain text answer, change the type of cell to \"Raw Text\" using the toolbar.\n",
      "positivity={}\n",
      "for user_id in user_tweets:\n",
      "    positiveity[user_id]=len([tweet for tweet in user_tweets[user_id] if tweet in positive_scores])\n",
      "\n",
      "positive_users=sorted(positivity.iteritems(), key=operator.itemgetter(1),reverse=True)\n",
      "\n",
      "print \"top 3 positive users are:\"\n",
      "for i in range(3):\n",
      "    print \"user:\",positive_users[i][0],\"positivity:\",positive_users[i][1]"
     ],
     "language": "python",
     "metadata": {},
     "outputs": [],
     "prompt_number": 28
    },
    {
     "cell_type": "markdown",
     "metadata": {},
     "source": [
      "**Bonus assignment (1 additional points will be given if you solve this assignment correctly, no penalty if you do not solve it. Note that the total grade of SMA assignments cannot exceed 8 points, therefore the bonus point can only be used to compensate for another question which you did not solve corectly):**  \n",
      "\n",
      "We have discussed earlier that our system is fragile to negations: it will score the expression *not beautiful* as positive because it only detects the word beautiful as positive. \n",
      "\n",
      "More generally, we consider that the token **not** changes the polarity of a given token: **not beautiful** becames negative, while **not bad** becomes positive.  \n",
      "\n",
      "Modify the function `get_sentiment_score(text)` to detect the changes of polarity due to the token **not**."
     ]
    },
    {
     "cell_type": "code",
     "collapsed": true,
     "input": [
      "# code or answer for question. In case of plain text answer, change the type of cell to \"Raw Text\" using the toolbar.\n",
      "def get_sentiment_score(text):\n",
      "    # tokenize and lemmatize the current tweet\n",
      "    tokens = nltk.word_tokenize(text)\n",
      "    tweet = [lmtzr.lemmatize(x.lower()) for x in tokens if len(x) >= 3]\n",
      "\n",
      "    # calculate the sentiment score\n",
      "    score = 0\n",
      "    changePolarity=False\n",
      "    for word in tweet:\n",
      "        if changePolarity==False:\n",
      "            if word==\"not\":\n",
      "                changePolarity=True\n",
      "            elif word in positive_words:\n",
      "                score = score + 1\n",
      "                print \"+1\", word\n",
      "            else word in negative_words:\n",
      "                score = score - 1\n",
      "                print \"-1\", word\n",
      "                \n",
      "        else:\n",
      "            if word==\"not\":\n",
      "                changePolarity=False\n",
      "            elif word in positive_words:\n",
      "                score = score - 1\n",
      "                print \"-1\", word\n",
      "                changePolarity=False\n",
      "            else word in negative_words:\n",
      "                score = score + 1\n",
      "                print \"+1\", word\n",
      "                changePolarity=False\n",
      "            \n",
      "    \n",
      "    return score"
     ],
     "language": "python",
     "metadata": {},
     "outputs": [
      {
       "ename": "IndentationError",
       "evalue": "expected an indented block (<ipython-input-26-b63b22700f89>, line 12)",
       "output_type": "pyerr",
       "traceback": [
        "\u001b[0;36m  File \u001b[0;32m\"<ipython-input-26-b63b22700f89>\"\u001b[0;36m, line \u001b[0;32m12\u001b[0m\n\u001b[0;31m    if word in positive_words:\u001b[0m\n\u001b[0m     ^\u001b[0m\n\u001b[0;31mIndentationError\u001b[0m\u001b[0;31m:\u001b[0m expected an indented block\n"
       ]
      }
     ],
     "prompt_number": 26
    },
    {
     "cell_type": "code",
     "collapsed": false,
     "input": [],
     "language": "python",
     "metadata": {},
     "outputs": []
    }
   ],
   "metadata": {}
  }
 ]
}